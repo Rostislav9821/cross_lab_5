{
 "cells": [
  {
   "cell_type": "code",
   "execution_count": null,
   "metadata": {},
   "outputs": [],
   "source": [
    "Постройте круговую диаграмму, которая изображает состав населения Дагестана(на 2010г)\n",
    "Аварцы - 29,4 %\n",
    "\n",
    "Даргинцы - 17,0 %\n",
    "\n",
    "Кумыки - 14,9 %\n",
    "\n",
    "Лезгины - 13,3 %\n",
    "\n",
    "Лакцы - 5,6 %\n",
    "\n",
    "Азербайджанцы - 4,5 %\n",
    "\n",
    "Табасаранцы - 4,1 %\n",
    "\n",
    "Русские - 3,6 %\n",
    "\n",
    "Другие - 7,6 %"
   ]
  },
  {
   "cell_type": "code",
   "execution_count": 2,
   "metadata": {},
   "outputs": [
    {
     "ename": "IndentationError",
     "evalue": "unexpected indent (<ipython-input-2-c8c2f1a9150b>, line 8)",
     "output_type": "error",
     "traceback": [
      "\u001b[1;36m  File \u001b[1;32m\"<ipython-input-2-c8c2f1a9150b>\"\u001b[1;36m, line \u001b[1;32m8\u001b[0m\n\u001b[1;33m    fig, ax = plt.subplots()\u001b[0m\n\u001b[1;37m    ^\u001b[0m\n\u001b[1;31mIndentationError\u001b[0m\u001b[1;31m:\u001b[0m unexpected indent\n"
     ]
    }
   ],
   "source": [
    "import matplotlib\n",
    "import numpy as np\n",
    "vals = [29.4, 17, 14.9, 13.3, 5.6, 4.5, 4.1, 3.6, 7.6]\n",
    "\n",
    "labels = [\"Аварцы\", \"Даргинцы\", \"Кумыки\", \"Лезгины\", \"Лакцы\", \"Азербайджанцы\", \"Табасаранцы\", \"Русские\", \"Другие\"]\n",
    "explode = (0.1, 0.1, 0.1, 0.1, 0.1, 0.1, 0.1, 0.1, 0.1)\n",
    "\n",
    " fig, ax = plt.subplots()\n",
    "\n",
    "ax.pie(vals, labels=labels, autopct='%1.1f%%', shadow=True, explode=explode,\n",
    "wedgeprops={'lw':1, 'ls':'--','edgecolor':\"k\"}, rotatelabels=True)\n",
    "ax.axis(\"equal\")"
   ]
  },
  {
   "cell_type": "code",
   "execution_count": null,
   "metadata": {},
   "outputs": [],
   "source": []
  }
 ],
 "metadata": {
  "kernelspec": {
   "display_name": "Python 3",
   "language": "python",
   "name": "python3"
  },
  "language_info": {
   "codemirror_mode": {
    "name": "ipython",
    "version": 3
   },
   "file_extension": ".py",
   "mimetype": "text/x-python",
   "name": "python",
   "nbconvert_exporter": "python",
   "pygments_lexer": "ipython3",
   "version": "3.8.5"
  }
 },
 "nbformat": 4,
 "nbformat_minor": 4
}
